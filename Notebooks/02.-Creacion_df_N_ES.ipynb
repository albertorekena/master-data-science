{
 "cells": [
  {
   "cell_type": "code",
   "execution_count": 1,
   "metadata": {},
   "outputs": [
    {
     "name": "stdout",
     "output_type": "stream",
     "text": [
      "2019-05-22T06:46:41+02:00\n",
      "\n",
      "CPython 3.6.8\n",
      "IPython 6.2.1\n",
      "\n",
      "compiler   : GCC 7.3.0\n",
      "system     : Linux\n",
      "release    : 4.13.0-46-generic\n",
      "machine    : x86_64\n",
      "processor  : x86_64\n",
      "CPU cores  : 2\n",
      "interpreter: 64bit\n"
     ]
    }
   ],
   "source": [
    "%load_ext watermark\n",
    "%watermark"
   ]
  },
  {
   "cell_type": "markdown",
   "metadata": {},
   "source": [
    "## Carga Dataframe"
   ]
  },
  {
   "cell_type": "code",
   "execution_count": 2,
   "metadata": {},
   "outputs": [],
   "source": [
    "import pandas as pd\n",
    "import datetime\n",
    "import warnings\n",
    "\n",
    "warnings.filterwarnings('ignore')"
   ]
  },
  {
   "cell_type": "code",
   "execution_count": 3,
   "metadata": {},
   "outputs": [
    {
     "data": {
      "text/html": [
       "<div>\n",
       "<style scoped>\n",
       "    .dataframe tbody tr th:only-of-type {\n",
       "        vertical-align: middle;\n",
       "    }\n",
       "\n",
       "    .dataframe tbody tr th {\n",
       "        vertical-align: top;\n",
       "    }\n",
       "\n",
       "    .dataframe thead th {\n",
       "        text-align: right;\n",
       "    }\n",
       "</style>\n",
       "<table border=\"1\" class=\"dataframe\">\n",
       "  <thead>\n",
       "    <tr style=\"text-align: right;\">\n",
       "      <th></th>\n",
       "      <th>Fecha_envio</th>\n",
       "      <th>Product_code</th>\n",
       "      <th>Origen</th>\n",
       "      <th>Destino</th>\n",
       "      <th>Peso</th>\n",
       "      <th>Volumen</th>\n",
       "      <th>Peso_final</th>\n",
       "    </tr>\n",
       "  </thead>\n",
       "  <tbody>\n",
       "    <tr>\n",
       "      <th>0</th>\n",
       "      <td>2017-05-01</td>\n",
       "      <td>B</td>\n",
       "      <td>ES</td>\n",
       "      <td>NO</td>\n",
       "      <td>1.80</td>\n",
       "      <td>3.584</td>\n",
       "      <td>3.584</td>\n",
       "    </tr>\n",
       "    <tr>\n",
       "      <th>1</th>\n",
       "      <td>2017-05-01</td>\n",
       "      <td>B</td>\n",
       "      <td>ES</td>\n",
       "      <td>NO</td>\n",
       "      <td>0.90</td>\n",
       "      <td>2.242</td>\n",
       "      <td>2.242</td>\n",
       "    </tr>\n",
       "    <tr>\n",
       "      <th>2</th>\n",
       "      <td>2017-05-01</td>\n",
       "      <td>B</td>\n",
       "      <td>ES</td>\n",
       "      <td>NO</td>\n",
       "      <td>0.35</td>\n",
       "      <td>1.009</td>\n",
       "      <td>1.009</td>\n",
       "    </tr>\n",
       "    <tr>\n",
       "      <th>3</th>\n",
       "      <td>2017-05-01</td>\n",
       "      <td>B</td>\n",
       "      <td>ES</td>\n",
       "      <td>NO</td>\n",
       "      <td>1.15</td>\n",
       "      <td>2.130</td>\n",
       "      <td>2.130</td>\n",
       "    </tr>\n",
       "    <tr>\n",
       "      <th>4</th>\n",
       "      <td>2017-05-01</td>\n",
       "      <td>B</td>\n",
       "      <td>ES</td>\n",
       "      <td>NO</td>\n",
       "      <td>0.45</td>\n",
       "      <td>0.996</td>\n",
       "      <td>0.996</td>\n",
       "    </tr>\n",
       "  </tbody>\n",
       "</table>\n",
       "</div>"
      ],
      "text/plain": [
       "  Fecha_envio Product_code Origen Destino  Peso  Volumen  Peso_final\n",
       "0  2017-05-01            B     ES      NO  1.80    3.584       3.584\n",
       "1  2017-05-01            B     ES      NO  0.90    2.242       2.242\n",
       "2  2017-05-01            B     ES      NO  0.35    1.009       1.009\n",
       "3  2017-05-01            B     ES      NO  1.15    2.130       2.130\n",
       "4  2017-05-01            B     ES      NO  0.45    0.996       0.996"
      ]
     },
     "execution_count": 3,
     "metadata": {},
     "output_type": "execute_result"
    }
   ],
   "source": [
    "df = pd.read_pickle('../Data/01.-Exploracion-de-los-Datos-y-Creacion-Dataframe.pkl')\n",
    "\n",
    "df.head()"
   ]
  },
  {
   "cell_type": "markdown",
   "metadata": {},
   "source": [
    "## Encontrar producto estrella por país "
   ]
  },
  {
   "cell_type": "code",
   "execution_count": 4,
   "metadata": {},
   "outputs": [
    {
     "data": {
      "text/plain": [
       "array(['B', 'U', 'P', 'D', 'N', 'C', 'T', 'W', 'H', 'Q', '7', '9', '8',\n",
       "       '1', 'X', 'K', 'V', 'Y', 'I', 'L', 'M', 'E'], dtype=object)"
      ]
     },
     "execution_count": 4,
     "metadata": {},
     "output_type": "execute_result"
    }
   ],
   "source": [
    "df['Product_code'].unique()"
   ]
  },
  {
   "cell_type": "code",
   "execution_count": 5,
   "metadata": {
    "scrolled": false
   },
   "outputs": [
    {
     "data": {
      "text/html": [
       "<div>\n",
       "<style scoped>\n",
       "    .dataframe tbody tr th:only-of-type {\n",
       "        vertical-align: middle;\n",
       "    }\n",
       "\n",
       "    .dataframe tbody tr th {\n",
       "        vertical-align: top;\n",
       "    }\n",
       "\n",
       "    .dataframe thead th {\n",
       "        text-align: right;\n",
       "    }\n",
       "</style>\n",
       "<table border=\"1\" class=\"dataframe\">\n",
       "  <thead>\n",
       "    <tr style=\"text-align: right;\">\n",
       "      <th></th>\n",
       "      <th>Destino</th>\n",
       "      <th>Product_code</th>\n",
       "      <th>0</th>\n",
       "    </tr>\n",
       "  </thead>\n",
       "  <tbody>\n",
       "    <tr>\n",
       "      <th>0</th>\n",
       "      <td>AD</td>\n",
       "      <td>7</td>\n",
       "      <td>192</td>\n",
       "    </tr>\n",
       "    <tr>\n",
       "      <th>1</th>\n",
       "      <td>AD</td>\n",
       "      <td>8</td>\n",
       "      <td>16</td>\n",
       "    </tr>\n",
       "    <tr>\n",
       "      <th>2</th>\n",
       "      <td>AD</td>\n",
       "      <td>D</td>\n",
       "      <td>7177</td>\n",
       "    </tr>\n",
       "    <tr>\n",
       "      <th>3</th>\n",
       "      <td>AD</td>\n",
       "      <td>H</td>\n",
       "      <td>3</td>\n",
       "    </tr>\n",
       "    <tr>\n",
       "      <th>4</th>\n",
       "      <td>AD</td>\n",
       "      <td>N</td>\n",
       "      <td>4</td>\n",
       "    </tr>\n",
       "  </tbody>\n",
       "</table>\n",
       "</div>"
      ],
      "text/plain": [
       "  Destino Product_code     0\n",
       "0      AD            7   192\n",
       "1      AD            8    16\n",
       "2      AD            D  7177\n",
       "3      AD            H     3\n",
       "4      AD            N     4"
      ]
     },
     "execution_count": 5,
     "metadata": {},
     "output_type": "execute_result"
    }
   ],
   "source": [
    "df_shippings = df.groupby(['Destino','Product_code']).size().reset_index()\n",
    "\n",
    "df_shippings.head()"
   ]
  },
  {
   "cell_type": "code",
   "execution_count": 6,
   "metadata": {
    "scrolled": true
   },
   "outputs": [
    {
     "data": {
      "text/html": [
       "<div>\n",
       "<style scoped>\n",
       "    .dataframe tbody tr th:only-of-type {\n",
       "        vertical-align: middle;\n",
       "    }\n",
       "\n",
       "    .dataframe tbody tr th {\n",
       "        vertical-align: top;\n",
       "    }\n",
       "\n",
       "    .dataframe thead th {\n",
       "        text-align: right;\n",
       "    }\n",
       "</style>\n",
       "<table border=\"1\" class=\"dataframe\">\n",
       "  <thead>\n",
       "    <tr style=\"text-align: right;\">\n",
       "      <th></th>\n",
       "      <th>Destino</th>\n",
       "      <th>Producto</th>\n",
       "      <th>Total</th>\n",
       "    </tr>\n",
       "  </thead>\n",
       "  <tbody>\n",
       "    <tr>\n",
       "      <th>422</th>\n",
       "      <td>ES</td>\n",
       "      <td>N</td>\n",
       "      <td>1163861</td>\n",
       "    </tr>\n",
       "    <tr>\n",
       "      <th>470</th>\n",
       "      <td>FR</td>\n",
       "      <td>U</td>\n",
       "      <td>1157595</td>\n",
       "    </tr>\n",
       "    <tr>\n",
       "      <th>705</th>\n",
       "      <td>IT</td>\n",
       "      <td>U</td>\n",
       "      <td>974413</td>\n",
       "    </tr>\n",
       "    <tr>\n",
       "      <th>345</th>\n",
       "      <td>DE</td>\n",
       "      <td>U</td>\n",
       "      <td>771564</td>\n",
       "    </tr>\n",
       "    <tr>\n",
       "      <th>495</th>\n",
       "      <td>GB</td>\n",
       "      <td>U</td>\n",
       "      <td>717266</td>\n",
       "    </tr>\n",
       "  </tbody>\n",
       "</table>\n",
       "</div>"
      ],
      "text/plain": [
       "    Destino Producto    Total\n",
       "422      ES        N  1163861\n",
       "470      FR        U  1157595\n",
       "705      IT        U   974413\n",
       "345      DE        U   771564\n",
       "495      GB        U   717266"
      ]
     },
     "execution_count": 6,
     "metadata": {},
     "output_type": "execute_result"
    }
   ],
   "source": [
    "df_shippings.columns = ['Destino','Producto','Total']\n",
    "\n",
    "df_shippings = df_shippings.sort_values(by = 'Total',ascending = False)\n",
    "\n",
    "df_shippings.head()"
   ]
  },
  {
   "cell_type": "code",
   "execution_count": 7,
   "metadata": {
    "scrolled": true
   },
   "outputs": [
    {
     "data": {
      "text/html": [
       "<div>\n",
       "<style scoped>\n",
       "    .dataframe tbody tr th:only-of-type {\n",
       "        vertical-align: middle;\n",
       "    }\n",
       "\n",
       "    .dataframe tbody tr th {\n",
       "        vertical-align: top;\n",
       "    }\n",
       "\n",
       "    .dataframe thead th {\n",
       "        text-align: right;\n",
       "    }\n",
       "</style>\n",
       "<table border=\"1\" class=\"dataframe\">\n",
       "  <thead>\n",
       "    <tr style=\"text-align: right;\">\n",
       "      <th></th>\n",
       "      <th>Destino</th>\n",
       "      <th>Producto</th>\n",
       "      <th>Total</th>\n",
       "    </tr>\n",
       "  </thead>\n",
       "  <tbody>\n",
       "    <tr>\n",
       "      <th>422</th>\n",
       "      <td>ES</td>\n",
       "      <td>N</td>\n",
       "      <td>1163861</td>\n",
       "    </tr>\n",
       "    <tr>\n",
       "      <th>412</th>\n",
       "      <td>ES</td>\n",
       "      <td>1</td>\n",
       "      <td>117037</td>\n",
       "    </tr>\n",
       "    <tr>\n",
       "      <th>415</th>\n",
       "      <td>ES</td>\n",
       "      <td>C</td>\n",
       "      <td>45819</td>\n",
       "    </tr>\n",
       "    <tr>\n",
       "      <th>413</th>\n",
       "      <td>ES</td>\n",
       "      <td>7</td>\n",
       "      <td>41009</td>\n",
       "    </tr>\n",
       "    <tr>\n",
       "      <th>416</th>\n",
       "      <td>ES</td>\n",
       "      <td>D</td>\n",
       "      <td>4775</td>\n",
       "    </tr>\n",
       "  </tbody>\n",
       "</table>\n",
       "</div>"
      ],
      "text/plain": [
       "    Destino Producto    Total\n",
       "422      ES        N  1163861\n",
       "412      ES        1   117037\n",
       "415      ES        C    45819\n",
       "413      ES        7    41009\n",
       "416      ES        D     4775"
      ]
     },
     "execution_count": 7,
     "metadata": {},
     "output_type": "execute_result"
    }
   ],
   "source": [
    "df_shippings_ES = df_shippings[df_shippings['Destino'] == 'ES']\n",
    "\n",
    "df_shippings_ES.head()"
   ]
  },
  {
   "cell_type": "code",
   "execution_count": 8,
   "metadata": {
    "scrolled": true
   },
   "outputs": [
    {
     "data": {
      "text/html": [
       "<div>\n",
       "<style scoped>\n",
       "    .dataframe tbody tr th:only-of-type {\n",
       "        vertical-align: middle;\n",
       "    }\n",
       "\n",
       "    .dataframe tbody tr th {\n",
       "        vertical-align: top;\n",
       "    }\n",
       "\n",
       "    .dataframe thead th {\n",
       "        text-align: right;\n",
       "    }\n",
       "</style>\n",
       "<table border=\"1\" class=\"dataframe\">\n",
       "  <thead>\n",
       "    <tr style=\"text-align: right;\">\n",
       "      <th></th>\n",
       "      <th>Destino</th>\n",
       "      <th>Producto</th>\n",
       "      <th>Total</th>\n",
       "      <th>Porcentaje_del_total</th>\n",
       "    </tr>\n",
       "  </thead>\n",
       "  <tbody>\n",
       "    <tr>\n",
       "      <th>422</th>\n",
       "      <td>ES</td>\n",
       "      <td>N</td>\n",
       "      <td>1163861</td>\n",
       "      <td>84.40</td>\n",
       "    </tr>\n",
       "    <tr>\n",
       "      <th>412</th>\n",
       "      <td>ES</td>\n",
       "      <td>1</td>\n",
       "      <td>117037</td>\n",
       "      <td>8.49</td>\n",
       "    </tr>\n",
       "    <tr>\n",
       "      <th>415</th>\n",
       "      <td>ES</td>\n",
       "      <td>C</td>\n",
       "      <td>45819</td>\n",
       "      <td>3.32</td>\n",
       "    </tr>\n",
       "    <tr>\n",
       "      <th>413</th>\n",
       "      <td>ES</td>\n",
       "      <td>7</td>\n",
       "      <td>41009</td>\n",
       "      <td>2.97</td>\n",
       "    </tr>\n",
       "    <tr>\n",
       "      <th>416</th>\n",
       "      <td>ES</td>\n",
       "      <td>D</td>\n",
       "      <td>4775</td>\n",
       "      <td>0.35</td>\n",
       "    </tr>\n",
       "  </tbody>\n",
       "</table>\n",
       "</div>"
      ],
      "text/plain": [
       "    Destino Producto    Total  Porcentaje_del_total\n",
       "422      ES        N  1163861                 84.40\n",
       "412      ES        1   117037                  8.49\n",
       "415      ES        C    45819                  3.32\n",
       "413      ES        7    41009                  2.97\n",
       "416      ES        D     4775                  0.35"
      ]
     },
     "execution_count": 8,
     "metadata": {},
     "output_type": "execute_result"
    }
   ],
   "source": [
    "df_shippings_ES['Porcentaje_del_total'] = ((df_shippings_ES['Total'] / df_shippings_ES['Total'].sum()) * 100).round(2)\n",
    "\n",
    "df_shippings_ES.head()"
   ]
  },
  {
   "cell_type": "markdown",
   "metadata": {},
   "source": [
    "El 'Producto' N es del más envíos se realiza, teniendo en cuenta la segmentación de países. Y el país, en este caso, es España, para el que supone el 84.40% de los envíos.\n",
    "\n",
    "Vamos a crear un DataFrame únicamente para los campos 'Fecha_envio' y 'Total', para el 'Producto' N en el 'Destino' ES."
   ]
  },
  {
   "cell_type": "markdown",
   "metadata": {},
   "source": [
    "## Creación DataFrame 'Producto' N con 'Destino' ES "
   ]
  },
  {
   "cell_type": "code",
   "execution_count": 9,
   "metadata": {},
   "outputs": [
    {
     "data": {
      "text/html": [
       "<div>\n",
       "<style scoped>\n",
       "    .dataframe tbody tr th:only-of-type {\n",
       "        vertical-align: middle;\n",
       "    }\n",
       "\n",
       "    .dataframe tbody tr th {\n",
       "        vertical-align: top;\n",
       "    }\n",
       "\n",
       "    .dataframe thead th {\n",
       "        text-align: right;\n",
       "    }\n",
       "</style>\n",
       "<table border=\"1\" class=\"dataframe\">\n",
       "  <thead>\n",
       "    <tr style=\"text-align: right;\">\n",
       "      <th></th>\n",
       "      <th>Fecha_envio</th>\n",
       "      <th>Product_code</th>\n",
       "      <th>Origen</th>\n",
       "      <th>Destino</th>\n",
       "      <th>Peso</th>\n",
       "      <th>Volumen</th>\n",
       "      <th>Peso_final</th>\n",
       "    </tr>\n",
       "  </thead>\n",
       "  <tbody>\n",
       "    <tr>\n",
       "      <th>0</th>\n",
       "      <td>2017-05-01</td>\n",
       "      <td>B</td>\n",
       "      <td>ES</td>\n",
       "      <td>NO</td>\n",
       "      <td>1.80</td>\n",
       "      <td>3.584</td>\n",
       "      <td>3.584</td>\n",
       "    </tr>\n",
       "    <tr>\n",
       "      <th>1</th>\n",
       "      <td>2017-05-01</td>\n",
       "      <td>B</td>\n",
       "      <td>ES</td>\n",
       "      <td>NO</td>\n",
       "      <td>0.90</td>\n",
       "      <td>2.242</td>\n",
       "      <td>2.242</td>\n",
       "    </tr>\n",
       "    <tr>\n",
       "      <th>2</th>\n",
       "      <td>2017-05-01</td>\n",
       "      <td>B</td>\n",
       "      <td>ES</td>\n",
       "      <td>NO</td>\n",
       "      <td>0.35</td>\n",
       "      <td>1.009</td>\n",
       "      <td>1.009</td>\n",
       "    </tr>\n",
       "    <tr>\n",
       "      <th>3</th>\n",
       "      <td>2017-05-01</td>\n",
       "      <td>B</td>\n",
       "      <td>ES</td>\n",
       "      <td>NO</td>\n",
       "      <td>1.15</td>\n",
       "      <td>2.130</td>\n",
       "      <td>2.130</td>\n",
       "    </tr>\n",
       "    <tr>\n",
       "      <th>4</th>\n",
       "      <td>2017-05-01</td>\n",
       "      <td>B</td>\n",
       "      <td>ES</td>\n",
       "      <td>NO</td>\n",
       "      <td>0.45</td>\n",
       "      <td>0.996</td>\n",
       "      <td>0.996</td>\n",
       "    </tr>\n",
       "  </tbody>\n",
       "</table>\n",
       "</div>"
      ],
      "text/plain": [
       "  Fecha_envio Product_code Origen Destino  Peso  Volumen  Peso_final\n",
       "0  2017-05-01            B     ES      NO  1.80    3.584       3.584\n",
       "1  2017-05-01            B     ES      NO  0.90    2.242       2.242\n",
       "2  2017-05-01            B     ES      NO  0.35    1.009       1.009\n",
       "3  2017-05-01            B     ES      NO  1.15    2.130       2.130\n",
       "4  2017-05-01            B     ES      NO  0.45    0.996       0.996"
      ]
     },
     "execution_count": 9,
     "metadata": {},
     "output_type": "execute_result"
    }
   ],
   "source": [
    "df.head()"
   ]
  },
  {
   "cell_type": "code",
   "execution_count": 10,
   "metadata": {
    "scrolled": true
   },
   "outputs": [
    {
     "data": {
      "text/html": [
       "<div>\n",
       "<style scoped>\n",
       "    .dataframe tbody tr th:only-of-type {\n",
       "        vertical-align: middle;\n",
       "    }\n",
       "\n",
       "    .dataframe tbody tr th {\n",
       "        vertical-align: top;\n",
       "    }\n",
       "\n",
       "    .dataframe thead th {\n",
       "        text-align: right;\n",
       "    }\n",
       "</style>\n",
       "<table border=\"1\" class=\"dataframe\">\n",
       "  <thead>\n",
       "    <tr style=\"text-align: right;\">\n",
       "      <th></th>\n",
       "      <th>Fecha_envio</th>\n",
       "      <th>Product_code</th>\n",
       "      <th>Origen</th>\n",
       "      <th>Destino</th>\n",
       "      <th>Peso</th>\n",
       "      <th>Volumen</th>\n",
       "      <th>Peso_final</th>\n",
       "    </tr>\n",
       "  </thead>\n",
       "  <tbody>\n",
       "    <tr>\n",
       "      <th>1234</th>\n",
       "      <td>2017-05-02</td>\n",
       "      <td>N</td>\n",
       "      <td>ES</td>\n",
       "      <td>ES</td>\n",
       "      <td>1.60</td>\n",
       "      <td>0.500</td>\n",
       "      <td>1.600</td>\n",
       "    </tr>\n",
       "    <tr>\n",
       "      <th>1279</th>\n",
       "      <td>2017-05-02</td>\n",
       "      <td>N</td>\n",
       "      <td>ES</td>\n",
       "      <td>ES</td>\n",
       "      <td>5.78</td>\n",
       "      <td>1.075</td>\n",
       "      <td>5.780</td>\n",
       "    </tr>\n",
       "    <tr>\n",
       "      <th>1281</th>\n",
       "      <td>2017-05-02</td>\n",
       "      <td>N</td>\n",
       "      <td>ES</td>\n",
       "      <td>ES</td>\n",
       "      <td>0.70</td>\n",
       "      <td>1.575</td>\n",
       "      <td>1.575</td>\n",
       "    </tr>\n",
       "    <tr>\n",
       "      <th>1282</th>\n",
       "      <td>2017-05-02</td>\n",
       "      <td>N</td>\n",
       "      <td>ES</td>\n",
       "      <td>ES</td>\n",
       "      <td>0.96</td>\n",
       "      <td>0.500</td>\n",
       "      <td>0.960</td>\n",
       "    </tr>\n",
       "    <tr>\n",
       "      <th>1286</th>\n",
       "      <td>2017-05-02</td>\n",
       "      <td>N</td>\n",
       "      <td>ES</td>\n",
       "      <td>ES</td>\n",
       "      <td>0.38</td>\n",
       "      <td>0.500</td>\n",
       "      <td>0.500</td>\n",
       "    </tr>\n",
       "  </tbody>\n",
       "</table>\n",
       "</div>"
      ],
      "text/plain": [
       "     Fecha_envio Product_code Origen Destino  Peso  Volumen  Peso_final\n",
       "1234  2017-05-02            N     ES      ES  1.60    0.500       1.600\n",
       "1279  2017-05-02            N     ES      ES  5.78    1.075       5.780\n",
       "1281  2017-05-02            N     ES      ES  0.70    1.575       1.575\n",
       "1282  2017-05-02            N     ES      ES  0.96    0.500       0.960\n",
       "1286  2017-05-02            N     ES      ES  0.38    0.500       0.500"
      ]
     },
     "execution_count": 10,
     "metadata": {},
     "output_type": "execute_result"
    }
   ],
   "source": [
    "df_N_ES = df[(df['Product_code'] == 'N') & (df['Destino'] == 'ES')]\n",
    "\n",
    "df_N_ES.head()"
   ]
  },
  {
   "cell_type": "code",
   "execution_count": 12,
   "metadata": {
    "scrolled": true
   },
   "outputs": [
    {
     "data": {
      "text/html": [
       "<div>\n",
       "<style scoped>\n",
       "    .dataframe tbody tr th:only-of-type {\n",
       "        vertical-align: middle;\n",
       "    }\n",
       "\n",
       "    .dataframe tbody tr th {\n",
       "        vertical-align: top;\n",
       "    }\n",
       "\n",
       "    .dataframe thead th {\n",
       "        text-align: right;\n",
       "    }\n",
       "</style>\n",
       "<table border=\"1\" class=\"dataframe\">\n",
       "  <thead>\n",
       "    <tr style=\"text-align: right;\">\n",
       "      <th></th>\n",
       "      <th>Fecha_envio</th>\n",
       "      <th>0</th>\n",
       "    </tr>\n",
       "  </thead>\n",
       "  <tbody>\n",
       "    <tr>\n",
       "      <th>0</th>\n",
       "      <td>2017-05-02</td>\n",
       "      <td>1993</td>\n",
       "    </tr>\n",
       "    <tr>\n",
       "      <th>1</th>\n",
       "      <td>2017-05-03</td>\n",
       "      <td>3193</td>\n",
       "    </tr>\n",
       "    <tr>\n",
       "      <th>2</th>\n",
       "      <td>2017-05-04</td>\n",
       "      <td>2759</td>\n",
       "    </tr>\n",
       "    <tr>\n",
       "      <th>3</th>\n",
       "      <td>2017-05-05</td>\n",
       "      <td>2503</td>\n",
       "    </tr>\n",
       "    <tr>\n",
       "      <th>4</th>\n",
       "      <td>2017-05-06</td>\n",
       "      <td>56</td>\n",
       "    </tr>\n",
       "  </tbody>\n",
       "</table>\n",
       "</div>"
      ],
      "text/plain": [
       "  Fecha_envio     0\n",
       "0  2017-05-02  1993\n",
       "1  2017-05-03  3193\n",
       "2  2017-05-04  2759\n",
       "3  2017-05-05  2503\n",
       "4  2017-05-06    56"
      ]
     },
     "execution_count": 12,
     "metadata": {},
     "output_type": "execute_result"
    }
   ],
   "source": [
    "df_N_ES = df_N_ES.groupby(['Fecha_envio']).size().reset_index()\n",
    "\n",
    "df_N_ES.head()"
   ]
  },
  {
   "cell_type": "code",
   "execution_count": 14,
   "metadata": {},
   "outputs": [
    {
     "data": {
      "text/html": [
       "<div>\n",
       "<style scoped>\n",
       "    .dataframe tbody tr th:only-of-type {\n",
       "        vertical-align: middle;\n",
       "    }\n",
       "\n",
       "    .dataframe tbody tr th {\n",
       "        vertical-align: top;\n",
       "    }\n",
       "\n",
       "    .dataframe thead th {\n",
       "        text-align: right;\n",
       "    }\n",
       "</style>\n",
       "<table border=\"1\" class=\"dataframe\">\n",
       "  <thead>\n",
       "    <tr style=\"text-align: right;\">\n",
       "      <th></th>\n",
       "      <th>ds</th>\n",
       "      <th>y</th>\n",
       "    </tr>\n",
       "  </thead>\n",
       "  <tbody>\n",
       "    <tr>\n",
       "      <th>0</th>\n",
       "      <td>2017-05-02</td>\n",
       "      <td>1993</td>\n",
       "    </tr>\n",
       "    <tr>\n",
       "      <th>1</th>\n",
       "      <td>2017-05-03</td>\n",
       "      <td>3193</td>\n",
       "    </tr>\n",
       "    <tr>\n",
       "      <th>2</th>\n",
       "      <td>2017-05-04</td>\n",
       "      <td>2759</td>\n",
       "    </tr>\n",
       "    <tr>\n",
       "      <th>3</th>\n",
       "      <td>2017-05-05</td>\n",
       "      <td>2503</td>\n",
       "    </tr>\n",
       "    <tr>\n",
       "      <th>4</th>\n",
       "      <td>2017-05-06</td>\n",
       "      <td>56</td>\n",
       "    </tr>\n",
       "  </tbody>\n",
       "</table>\n",
       "</div>"
      ],
      "text/plain": [
       "          ds     y\n",
       "0 2017-05-02  1993\n",
       "1 2017-05-03  3193\n",
       "2 2017-05-04  2759\n",
       "3 2017-05-05  2503\n",
       "4 2017-05-06    56"
      ]
     },
     "execution_count": 14,
     "metadata": {},
     "output_type": "execute_result"
    }
   ],
   "source": [
    "df_N_ES.columns = ['ds','y']\n",
    "\n",
    "df_N_ES.head()"
   ]
  },
  {
   "cell_type": "markdown",
   "metadata": {},
   "source": [
    "## Creación de Archivo con Formato pickle del Dataframe "
   ]
  },
  {
   "cell_type": "code",
   "execution_count": 18,
   "metadata": {},
   "outputs": [],
   "source": [
    "df_N_ES.to_pickle('../Data/02.-Untitled.pkl')"
   ]
  },
  {
   "cell_type": "code",
   "execution_count": 19,
   "metadata": {},
   "outputs": [
    {
     "name": "stdout",
     "output_type": "stream",
     "text": [
      "-rw-r--r-- 1 dsc dsc 1M may 22 07:10 ../Data/02.-Untitled.pkl\r\n"
     ]
    }
   ],
   "source": [
    "!ls -l --block-size=M ../Data/02.-Untitled.pkl"
   ]
  }
 ],
 "metadata": {
  "kernelspec": {
   "display_name": "Python 3",
   "language": "python",
   "name": "python3"
  },
  "language_info": {
   "codemirror_mode": {
    "name": "ipython",
    "version": 3
   },
   "file_extension": ".py",
   "mimetype": "text/x-python",
   "name": "python",
   "nbconvert_exporter": "python",
   "pygments_lexer": "ipython3",
   "version": "3.6.8"
  }
 },
 "nbformat": 4,
 "nbformat_minor": 2
}
